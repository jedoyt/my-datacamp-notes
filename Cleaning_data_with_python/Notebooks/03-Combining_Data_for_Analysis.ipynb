{
 "cells": [
  {
   "cell_type": "markdown",
   "metadata": {},
   "source": [
    "# Combining rows of data\n",
    "The dataset you'll be working with here relates to **NYC Uber data**. The original dataset has all the originating Uber pickup locations by time and latitude and longitude. For didactic purposes, you'll be working with a very small portion of the actual data.\n",
    "\n",
    "Three DataFrames have been pre-loaded: `uber1`, which contains data for April 2014, `uber2`, which contains data for May 2014, and `uber3`, which contains data for June 2014. Your job in this exercise is to concatenate these DataFrames together such that the resulting DataFrame has the data for all three months.\n",
    "\n",
    "Begin by exploring the structure of these three DataFrames in the IPython Shell using methods such as `.head()`."
   ]
  },
  {
   "cell_type": "markdown",
   "metadata": {},
   "source": [
    "## Instructions:\n",
    "\n",
    "-  Concatenate `uber1`, `uber2`, and `uber3` together using `pd.concat()`. You'll have to pass the DataFrames in as a list.\n",
    "-  Print the shape and then the head of the concatenated DataFrame, `row_concat`."
   ]
  },
  {
   "cell_type": "code",
   "execution_count": 8,
   "metadata": {},
   "outputs": [
    {
     "name": "stdout",
     "output_type": "stream",
     "text": [
      "(297, 5)\n",
      "     Base         Date/Time      Lat      Lon  Unnamed: 0\n",
      "0  B02512  4/1/2014 0:11:00  40.7690 -73.9549         NaN\n",
      "1  B02512  4/1/2014 0:17:00  40.7267 -74.0345         NaN\n",
      "2  B02512  4/1/2014 0:21:00  40.7316 -73.9873         NaN\n",
      "3  B02512  4/1/2014 0:28:00  40.7588 -73.9776         NaN\n",
      "4  B02512  4/1/2014 0:33:00  40.7594 -73.9722         NaN\n"
     ]
    }
   ],
   "source": [
    "# Import pandas\n",
    "import pandas as pd\n",
    "\n",
    "# Define DataFrames\n",
    "uber1 = pd.read_csv(\"uber042014.csv\")\n",
    "uber2 = pd.read_csv(\"uber052014.csv\")\n",
    "uber3 = pd.read_csv(\"uber062014.csv\")\n",
    "\n",
    "# Concatenate uber1, uber2, and uber3: row_concat\n",
    "row_concat = pd.concat([uber1,uber2,uber3])\n",
    "\n",
    "# Print the shape of row_concat\n",
    "print(row_concat.shape)\n",
    "\n",
    "# Print the head of row_concat\n",
    "print(row_concat.head())"
   ]
  },
  {
   "cell_type": "markdown",
   "metadata": {},
   "source": [
    "Notice that the head of `row_concat` is the same as the head of `uber1`, while the tail of `row_concat` is the same as the tail of `uber3`."
   ]
  },
  {
   "cell_type": "markdown",
   "metadata": {},
   "source": [
    "# Combining columns of data\n",
    "Think of column-wise concatenation of data as stitching data together from the sides instead of the top and bottom. To perform this action, you use the same `pd.concat()` function, but this time with the keyword argument `axis=1`. The default, `axis=0`, is for a row-wise concatenation.\n",
    "\n",
    "You'll return to the **Ebola dataset** you worked with briefly in the last chapter. It has been pre-loaded into a DataFrame called `ebola_melt`. In this DataFrame, the status and country of a patient is contained in a single column. This column has been parsed into a new DataFrame, `status_country`, where there are separate columns for status and country.\n",
    "\n",
    "Explore the `ebola_melt` and `status_country` DataFrames in the IPython Shell. Your job is to concatenate them column-wise in order to obtain a final, clean DataFrame."
   ]
  },
  {
   "cell_type": "markdown",
   "metadata": {},
   "source": [
    "## Instructions\n",
    "-  Concatenate `ebola_melt` and `status_country` column-wise into a single DataFrame called `ebola_tidy`. Be sure to specify `axis=1` and to pass the two DataFrames in as a list.\n",
    "-  Print the shape and then the head of the concatenated DataFrame, `ebola_tidy.\n"
   ]
  },
  {
   "cell_type": "raw",
   "metadata": {},
   "source": [
    "# Define DataFrame ebola\n",
    "ebola = pd.read_csv('ebola.csv')\n",
    "\n",
    "# Melt ebola: ebola_melt\n",
    "ebola_melt = pd.melt(ebola, id_vars=['Date', 'Day'], var_name='type_country', value_name='counts')\n",
    "\n",
    "# Define DataFrame status_country\n",
    "status_country = pd.read_csv('filename.csv')\n",
    "\n",
    "# Concatenate ebola_melt and status_country column-wise: ebola_tidy\n",
    "ebola_tidy = pd.concat([ebola_melt,status_country],axis=1)\n",
    "\n",
    "# Print the shape of ebola_tidy\n",
    "print(ebola_tidy.shape)\n",
    "\n",
    "# Print the head of ebola_tidy\n",
    "print(ebola_tidy.head())\n",
    "\n",
    "Output:\n",
    "(1952, 6)\n",
    "         Date  Day status_country  counts status country\n",
    "0    1/5/2015  289   Cases_Guinea  2776.0  Cases  Guinea\n",
    "1    1/4/2015  288   Cases_Guinea  2775.0  Cases  Guinea\n",
    "2    1/3/2015  287   Cases_Guinea  2769.0  Cases  Guinea\n",
    "3    1/2/2015  286   Cases_Guinea     NaN  Cases  Guinea\n",
    "4  12/31/2014  284   Cases_Guinea  2730.0  Cases  Guinea"
   ]
  },
  {
   "cell_type": "markdown",
   "metadata": {},
   "source": [
    "# Finding files that match a pattern\n",
    "\n",
    "You're now going to practice using the `glob` module to find all csv files in the workspace. In the next exercise, you'll programmatically load them into DataFrames.\n",
    "\n",
    "As Dan showed you in the video, the `glob` module has a function called `glob` that takes a pattern and returns a list of the files in the working directory that match that pattern.\n",
    "\n",
    "For example, if you know the pattern is `part_` `single digit number` `.csv`, you can write the pattern as `'part_?.csv'` (which would match `part_1.csv`, `part_2.csv`, `part_3.csv`, etc.)\n",
    "\n",
    "Similarly, you can find all `.csv` files with `'*.csv'`, or all parts with `'part_*'`. The `?` wildcard represents any 1 character, and the `*` wildcard represents any number of characters."
   ]
  },
  {
   "cell_type": "markdown",
   "metadata": {
    "collapsed": true
   },
   "source": [
    "## Instructions:\n",
    "-  Import the `glob` module along with `pandas` (as its usual alias `pd`).\n",
    "-  Write a pattern to match all `.csv` files.\n",
    "-  Save all files that match the pattern using the `glob()` function within the `glob` module. That is, by using `glob.glob()`.\n",
    "-  Print the list of file names. This has been done for you.\n",
    "-  Read the second file in `csv_files` (i.e., index 1) into a DataFrame called `csv2`.\n",
    "-  Hit 'Submit Answer' to print the head of `csv2`. Does it look familiar?\n"
   ]
  },
  {
   "cell_type": "code",
   "execution_count": 2,
   "metadata": {},
   "outputs": [
    {
     "name": "stdout",
     "output_type": "stream",
     "text": [
      "['uber456/uber042014.csv', 'uber456/uber062014.csv', 'uber456/uber052014.csv']\n",
      "   Unnamed: 0         Date/Time      Lat      Lon    Base\n",
      "0           0  6/1/2014 0:00:00  40.7293 -73.9920  B02512\n",
      "1           1  6/1/2014 0:01:00  40.7131 -74.0097  B02512\n",
      "2           2  6/1/2014 0:04:00  40.3461 -74.6610  B02512\n",
      "3           3  6/1/2014 0:04:00  40.7555 -73.9833  B02512\n",
      "4           4  6/1/2014 0:07:00  40.6880 -74.1831  B02512\n"
     ]
    }
   ],
   "source": [
    "# Import necessary modules\n",
    "import pandas as pd\n",
    "import glob\n",
    "\n",
    "# Write the pattern: pattern\n",
    "pattern = 'uber456/*.csv'\n",
    "\n",
    "# Save all file matches: csv_files\n",
    "csv_files = glob.glob(pattern)\n",
    "\n",
    "# Print the file names\n",
    "print(csv_files)\n",
    "\n",
    "# Load the second file into a DataFrame: csv2\n",
    "csv2 = pd.read_csv(csv_files[1])\n",
    "\n",
    "# Print the head of csv2\n",
    "print(csv2.head())"
   ]
  },
  {
   "cell_type": "markdown",
   "metadata": {},
   "source": [
    "# Iterating and concatenating all matches\n",
    "\n",
    "Now that you have a list of filenames to load, you can load all the files into a list of DataFrames that can then be concatenated.\n",
    "\n",
    "You'll start with an empty list called `frames`. Your job is to use a `for` loop to iterate through each of the filenames, read each filename into a DataFrame, and then append it to the `frames` list.\n",
    "\n",
    "You can then concatenate this list of DataFrames using `pd.concat()`. Go for it!"
   ]
  },
  {
   "cell_type": "markdown",
   "metadata": {},
   "source": [
    "## Instructions:\n",
    "-  Write a `for` loop to iterate through `csv_files`:\n",
    "    -  In each iteration of the loop, read `csv` into a DataFrame called `df`.\n",
    "    -  After creating `df`, append it to the list `frames` using the `.append()` method.\n",
    "-  Concatenate `frames` into a single DataFrame called `uber`.\n",
    "-  Hit 'Submit Answer' to see the head and shape of the concatenated DataFrame!\n"
   ]
  },
  {
   "cell_type": "code",
   "execution_count": 3,
   "metadata": {},
   "outputs": [
    {
     "name": "stdout",
     "output_type": "stream",
     "text": [
      "(297, 5)\n",
      "     Base         Date/Time      Lat      Lon  Unnamed: 0\n",
      "0  B02512  4/1/2014 0:11:00  40.7690 -73.9549         NaN\n",
      "1  B02512  4/1/2014 0:17:00  40.7267 -74.0345         NaN\n",
      "2  B02512  4/1/2014 0:21:00  40.7316 -73.9873         NaN\n",
      "3  B02512  4/1/2014 0:28:00  40.7588 -73.9776         NaN\n",
      "4  B02512  4/1/2014 0:33:00  40.7594 -73.9722         NaN\n"
     ]
    }
   ],
   "source": [
    "# Create an empty list: frames\n",
    "frames = []\n",
    "\n",
    "#  Iterate over csv_files\n",
    "for csv in csv_files:\n",
    "\n",
    "    #  Read csv into a DataFrame: df\n",
    "    df = pd.read_csv(csv)\n",
    "    \n",
    "    # Append df to frames\n",
    "    frames.append(df)\n",
    "\n",
    "# Concatenate frames into a single DataFrame: uber\n",
    "uber = pd.concat(frames)\n",
    "\n",
    "# Print the shape of uber\n",
    "print(uber.shape)\n",
    "\n",
    "# Print the head of uber\n",
    "print(uber.head())\n"
   ]
  },
  {
   "cell_type": "markdown",
   "metadata": {},
   "source": [
    "# 1-to-1 data merge\n",
    "\n",
    "Merging data allows you to combine disparate datasets into a single dataset to do more complex analysis.\n",
    "\n",
    "Here, you'll be using survey data that contains readings that William Dyer, Frank Pabodie, and Valentina Roerich took in the late 1920 and 1930 while they were on an expedition towards Antarctica. The dataset was taken from a sqlite database from the **Software Carpentry SQL lesson**.\n",
    "\n",
    "Two DataFrames have been pre-loaded: `site` and `visited`. Explore them in the IPython Shell and take note of their structure and column names. Your task is to perform a 1-to-1 merge of these two DataFrames using the `'name'` column of `site` and the `'site'` column of `visited`."
   ]
  },
  {
   "cell_type": "markdown",
   "metadata": {},
   "source": [
    "## Instructions:\n",
    "-  Merge the `site` and `visited` DataFrames on the `'name'` column of `site` and `'site'` column of visited.\n",
    "-  Print the merged DataFrame `o2o`."
   ]
  },
  {
   "cell_type": "code",
   "execution_count": 4,
   "metadata": {},
   "outputs": [
    {
     "name": "stdout",
     "output_type": "stream",
     "text": [
      "    name    lat    long  ident   site       dated\n",
      "0   DR-1 -49.85 -128.57    619   DR-1  1927-02-08\n",
      "1   DR-3 -47.15 -126.72    734   DR-3  1939-01-07\n",
      "2  MSK-4 -48.87 -123.40    837  MSK-4  1932-01-14\n"
     ]
    }
   ],
   "source": [
    "# Define DataFrames site and visited\n",
    "site = pd.read_csv(\"site.csv\")\n",
    "visited = pd.read_csv(\"visited.csv\")\n",
    "\n",
    "# Merge the DataFrames: o2o\n",
    "o2o = pd.merge(left=site, right=visited, left_on='name', right_on='site')\n",
    "\n",
    "# Print o2o\n",
    "print(o2o)"
   ]
  },
  {
   "cell_type": "markdown",
   "metadata": {},
   "source": [
    "Notice the 1-to-1 correspondence between the `name` column of the `site` DataFrame and the `site` column of the `visited` DataFrame. This is what made the 1-to-1 merge possible."
   ]
  },
  {
   "cell_type": "markdown",
   "metadata": {},
   "source": [
    "# Many-to-1 data merge\n",
    "\n",
    "In a many-to-one (or one-to-many) merge, one of the values will be duplicated and recycled in the output. That is, one of the keys in the merge is not unique.\n",
    "\n",
    "Here, the two DataFrames `site` and `visited` have been pre-loaded once again. Note that this time, `visited` has multiple entries for the `site` column. Confirm this by exploring it in the IPython Shell.\n",
    "\n",
    "The `.merge()` method call is the same as the 1-to-1 merge from the previous exercise, but the data and output will be different."
   ]
  },
  {
   "cell_type": "markdown",
   "metadata": {},
   "source": [
    "## Instructions:\n",
    "-  Merge the `site` and `visited` DataFrames on the `'name'` column of `site` and `'site'` column of `visited`, exactly as you did in the previous exercise.\n",
    "-  Print the merged DataFrame and then hit 'Submit Answer' to see the different output produced by this merge!"
   ]
  },
  {
   "cell_type": "code",
   "execution_count": 5,
   "metadata": {},
   "outputs": [
    {
     "name": "stdout",
     "output_type": "stream",
     "text": [
      "    name    lat    long  ident   site       dated\n",
      "0   DR-1 -49.85 -128.57    619   DR-1  1927-02-08\n",
      "1   DR-1 -49.85 -128.57    622   DR-1  1927-02-10\n",
      "2   DR-1 -49.85 -128.57    844   DR-1  1932-03-22\n",
      "3   DR-3 -47.15 -126.72    734   DR-3  1939-01-07\n",
      "4   DR-3 -47.15 -126.72    735   DR-3  1930-01-12\n",
      "5   DR-3 -47.15 -126.72    751   DR-3  1930-02-26\n",
      "6   DR-3 -47.15 -126.72    752   DR-3         NaN\n",
      "7  MSK-4 -48.87 -123.40    837  MSK-4  1932-01-14\n"
     ]
    }
   ],
   "source": [
    "# Define DataFrames site and visited\n",
    "site = pd.read_csv(\"site.csv\")\n",
    "visited = pd.read_csv(\"visited2.csv\")\n",
    "\n",
    "# Merge the DataFrames: m2o\n",
    "m2o = pd.merge(left=site, right=visited, left_on='name', right_on='site')\n",
    "\n",
    "# Print m2o\n",
    "print(m2o)"
   ]
  },
  {
   "cell_type": "markdown",
   "metadata": {},
   "source": [
    "Notice how the `site` data is duplicated during this many-to-1 merge!"
   ]
  },
  {
   "cell_type": "markdown",
   "metadata": {},
   "source": [
    "# Many-to-many data merge\n",
    "\n",
    "The final merging scenario occurs when both DataFrames do not have unique keys for a merge. What happens here is that for each duplicated key, every pairwise combination will be created.\n",
    "\n",
    "Two example DataFrames that share common key values have been pre-loaded: `df1` and `df2`. Another DataFrame `df3`, which is the result of `df1` merged with `df2`, has been pre-loaded. All three DataFrames have been printed - look at the output and notice how pairwise combinations have been created. This example is to help you develop your intuition for many-to-many merges.\n",
    "\n",
    "Here, you'll work with the `site` and `visited` DataFrames from before, and a new `survey` DataFrame. Your task is to merge `site` and `visited` as you did in the earlier exercises. You will then merge this merged DataFrame with `survey`.\n",
    "\n",
    "Begin by exploring the `site`, `visited`, and `survey` DataFrames in the IPython Shell."
   ]
  },
  {
   "cell_type": "markdown",
   "metadata": {},
   "source": [
    "## Instructions:\n",
    "-  Merge the `site` and `visited` DataFrames on the `'name'` column of `site` and `'site'` column of `visited`, exactly as you did in the previous two exercises. Save the result as `m2m`.\n",
    "-  Merge the `m2m` and `survey` DataFrames on the `'ident'` column of `m2m` and `'taken'` column of `survey`.\n",
    "-  Hit 'Submit Answer' to print the first 20 lines of the merged DataFrame!"
   ]
  },
  {
   "cell_type": "code",
   "execution_count": 9,
   "metadata": {},
   "outputs": [
    {
     "name": "stdout",
     "output_type": "stream",
     "text": [
      "     name    lat    long  ident   site       dated  taken person quant  \\\n",
      "0    DR-1 -49.85 -128.57    619   DR-1  1927-02-08    619   dyer   rad   \n",
      "1    DR-1 -49.85 -128.57    619   DR-1  1927-02-08    619   dyer   sal   \n",
      "2    DR-1 -49.85 -128.57    622   DR-1  1927-02-10    622   dyer   rad   \n",
      "3    DR-1 -49.85 -128.57    622   DR-1  1927-02-10    622   dyer   sal   \n",
      "4    DR-1 -49.85 -128.57    844   DR-1  1932-03-22    844    roe   rad   \n",
      "5    DR-3 -47.15 -126.72    734   DR-3  1939-01-07    734     pb   rad   \n",
      "6    DR-3 -47.15 -126.72    734   DR-3  1939-01-07    734   lake   sal   \n",
      "7    DR-3 -47.15 -126.72    734   DR-3  1939-01-07    734     pb  temp   \n",
      "8    DR-3 -47.15 -126.72    735   DR-3  1930-01-12    735     pb   rad   \n",
      "9    DR-3 -47.15 -126.72    735   DR-3  1930-01-12    735    NaN   sal   \n",
      "10   DR-3 -47.15 -126.72    735   DR-3  1930-01-12    735    NaN  temp   \n",
      "11   DR-3 -47.15 -126.72    751   DR-3  1930-02-26    751     pb   rad   \n",
      "12   DR-3 -47.15 -126.72    751   DR-3  1930-02-26    751     pb  temp   \n",
      "13   DR-3 -47.15 -126.72    751   DR-3  1930-02-26    751   lake   sal   \n",
      "14   DR-3 -47.15 -126.72    752   DR-3         NaN    752   lake   rad   \n",
      "15   DR-3 -47.15 -126.72    752   DR-3         NaN    752   lake   sal   \n",
      "16   DR-3 -47.15 -126.72    752   DR-3         NaN    752   lake  temp   \n",
      "17   DR-3 -47.15 -126.72    752   DR-3         NaN    752    roe   sal   \n",
      "18  MSK-4 -48.87 -123.40    837  MSK-4  1932-01-14    837   lake   rad   \n",
      "19  MSK-4 -48.87 -123.40    837  MSK-4  1932-01-14    837   lake   sal   \n",
      "\n",
      "    reading  \n",
      "0      9.82  \n",
      "1      0.13  \n",
      "2      7.80  \n",
      "3      0.09  \n",
      "4     11.25  \n",
      "5      8.41  \n",
      "6      0.05  \n",
      "7    -21.50  \n",
      "8      7.22  \n",
      "9      0.06  \n",
      "10   -26.00  \n",
      "11     4.35  \n",
      "12   -18.50  \n",
      "13     0.10  \n",
      "14     2.19  \n",
      "15     0.09  \n",
      "16   -16.00  \n",
      "17    41.60  \n",
      "18     1.46  \n",
      "19     0.21  \n"
     ]
    }
   ],
   "source": [
    "# Define additional DataFrames survey\n",
    "survey = pd.read_csv(\"survey.csv\")\n",
    "\n",
    "# Merge site and visited: m2m\n",
    "m2m = pd.merge(left=site, right=visited, left_on='name', right_on='site')\n",
    "\n",
    "# Merge m2m and survey: m2m\n",
    "m2m = pd.merge(left=m2m, right=survey, left_on='ident', right_on='taken')\n",
    "\n",
    "# Print the first 20 lines of m2m\n",
    "print(m2m.head(20))"
   ]
  },
  {
   "cell_type": "markdown",
   "metadata": {},
   "source": []
  },
  {
   "cell_type": "code",
   "execution_count": null,
   "metadata": {},
   "outputs": [],
   "source": []
  },
  {
   "cell_type": "code",
   "execution_count": null,
   "metadata": {},
   "outputs": [],
   "source": []
  }
 ],
 "metadata": {
  "kernelspec": {
   "display_name": "Python 3",
   "language": "python",
   "name": "python3"
  },
  "language_info": {
   "codemirror_mode": {
    "name": "ipython",
    "version": 3
   },
   "file_extension": ".py",
   "mimetype": "text/x-python",
   "name": "python",
   "nbconvert_exporter": "python",
   "pygments_lexer": "ipython3",
   "version": "3.6.4"
  }
 },
 "nbformat": 4,
 "nbformat_minor": 2
}
