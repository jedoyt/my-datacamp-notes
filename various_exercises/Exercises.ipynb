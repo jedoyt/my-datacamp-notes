{
 "cells": [
  {
   "cell_type": "markdown",
   "metadata": {},
   "source": [
    "# What is the output of the following code? "
   ]
  },
  {
   "cell_type": "raw",
   "metadata": {},
   "source": [
    "superhero_list = ['thor', 'hulk']\n",
    "\n",
    "def to_upper(x):\n",
    "    for i in x:\n",
    "        yield i.upper()\n",
    "\n",
    "print(to_upper(superhero_list))"
   ]
  },
  {
   "cell_type": "code",
   "execution_count": 1,
   "metadata": {},
   "outputs": [
    {
     "name": "stdout",
     "output_type": "stream",
     "text": [
      "<generator object to_upper at 0x0000020C62807DB0>\n"
     ]
    }
   ],
   "source": [
    "superhero_list = ['thor', 'hulk']\n",
    "\n",
    "def to_upper(x):\n",
    "    for i in x:\n",
    "        yield i.upper()\n",
    "\n",
    "print(to_upper(superhero_list))"
   ]
  },
  {
   "cell_type": "markdown",
   "metadata": {},
   "source": [
    "# Complete the code to return the output "
   ]
  },
  {
   "cell_type": "raw",
   "metadata": {},
   "source": [
    "x = [1, 2, 3, 4]\n",
    "squares = {#fill in the code#}\n",
    "print(squares)\n",
    "\n",
    "OUTPUT:\n",
    "{1: 1, 2: 4, 3: 9, 4: 16}"
   ]
  },
  {
   "cell_type": "code",
   "execution_count": 9,
   "metadata": {},
   "outputs": [
    {
     "name": "stdout",
     "output_type": "stream",
     "text": [
      "{1: 1, 2: 4, 3: 9, 4: 16}\n"
     ]
    }
   ],
   "source": [
    "x = [1, 2, 3, 4]\n",
    "squares = {i: i ** 2 for i in x}\n",
    "print(squares)"
   ]
  },
  {
   "cell_type": "markdown",
   "metadata": {},
   "source": [
    "# What is the output of the following code? "
   ]
  },
  {
   "cell_type": "raw",
   "metadata": {},
   "source": [
    "x = range(5)\n",
    "print([y * 2 for y in x])"
   ]
  },
  {
   "cell_type": "code",
   "execution_count": 11,
   "metadata": {},
   "outputs": [
    {
     "name": "stdout",
     "output_type": "stream",
     "text": [
      "[0, 2, 4, 6, 8]\n"
     ]
    }
   ],
   "source": [
    "x = range(5)\n",
    "print([y * 2 for y in x])"
   ]
  },
  {
   "cell_type": "markdown",
   "metadata": {},
   "source": [
    "# Complete the code to return the output"
   ]
  },
  {
   "cell_type": "raw",
   "metadata": {},
   "source": [
    "x = __ (__(26, 31))\n",
    "print(x)\n",
    "\n",
    "OUTPUT:\n",
    "[26, 27, 28, 29, 30]"
   ]
  },
  {
   "cell_type": "code",
   "execution_count": 17,
   "metadata": {},
   "outputs": [
    {
     "name": "stdout",
     "output_type": "stream",
     "text": [
      "[26, 27, 28, 29, 30]\n"
     ]
    }
   ],
   "source": [
    "x = list(range(26, 31))\n",
    "print(x)"
   ]
  },
  {
   "cell_type": "markdown",
   "metadata": {},
   "source": [
    "# Complete the code to return the output\n",
    "Import the csv file located at the url `link_to_df` in small chunks and print the first chunk of this dataframe. "
   ]
  },
  {
   "cell_type": "raw",
   "metadata": {},
   "source": [
    "df_chunks = __(__, __)\n",
    "print(next(df_chunks))\n",
    "\n",
    "OUTPUT:\n",
    "                name  cyl  gear\n",
    "0          Mazda RX4    6     4\n",
    "1      Mazda RX4 Wag    6     4\n",
    "2         Datsun 710    4     4\n",
    "3     Hornet 4 Drive    6     3\n",
    "4  Hornet Sportabout    8     3"
   ]
  },
  {
   "cell_type": "code",
   "execution_count": 24,
   "metadata": {},
   "outputs": [
    {
     "name": "stdout",
     "output_type": "stream",
     "text": [
      "                name  cyl  gear\n",
      "0          Mazda RX4    6     4\n",
      "1      Mazda RX4 Wag    6     4\n",
      "2         Datsun 710    4     4\n",
      "3     Hornet 4 Drive    6     3\n",
      "4  Hornet Sportabout    8     3\n"
     ]
    }
   ],
   "source": [
    "import pandas as pd\n",
    "\n",
    "link_to_df = \"car_specs.csv\"\n",
    "\n",
    "df_chunks = pd.read_csv(link_to_df, chunksize=5)\n",
    "print(next(df_chunks))"
   ]
  },
  {
   "cell_type": "code",
   "execution_count": null,
   "metadata": {},
   "outputs": [],
   "source": []
  }
 ],
 "metadata": {
  "kernelspec": {
   "display_name": "Python 3",
   "language": "python",
   "name": "python3"
  },
  "language_info": {
   "codemirror_mode": {
    "name": "ipython",
    "version": 3
   },
   "file_extension": ".py",
   "mimetype": "text/x-python",
   "name": "python",
   "nbconvert_exporter": "python",
   "pygments_lexer": "ipython3",
   "version": "3.6.4"
  }
 },
 "nbformat": 4,
 "nbformat_minor": 2
}
